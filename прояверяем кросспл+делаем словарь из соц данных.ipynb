{
 "cells": [
  {
   "cell_type": "code",
   "execution_count": 5,
   "metadata": {
    "collapsed": false
   },
   "outputs": [],
   "source": [
    "ids={}\n",
    "with open('trans.csv', 'rb') as csvfile:\n",
    "    spamreader = csv.reader(csvfile, delimiter='|', quotechar='|')\n",
    "    spamreader.next()\n",
    "    for row in spamreader:\n",
    "    \n",
    "            if ids.has_key(int(row[0]))==True:\n",
    "                val=ids.get(int(row[0]))\n",
    "                if row[1] not in val:\n",
    "                    val.append(row[1])\n",
    "            else:\n",
    "                ids[int(row[0])]=[]# каждый id принимает в значение свои транзакции\n",
    "                if row[1] not in ids[int(row[0])]:\n",
    "                    ids[int(row[0])].append(row[1])\n",
    "        "
   ]
  },
  {
   "cell_type": "code",
   "execution_count": 7,
   "metadata": {
    "collapsed": false
   },
   "outputs": [
    {
     "name": "stdout",
     "output_type": "stream",
     "text": [
      "1441825449   ['fb', 'ok']\n",
      "1837829783   ['vk', 'fb']\n",
      "2282529671   ['fb', 'ok']\n",
      "1650895496   ['vk', 'ok']\n",
      "1896167515   ['fb', 'ok']\n",
      "1762741287   ['vk', 'ok']\n",
      "1567083713   ['ok', 'vk']\n",
      "3221474908   ['vk', 'fb']\n",
      "1037651633   ['ok', 'vk']\n",
      "1728212763   ['vk', 'ok']\n",
      "1710321729   ['vk', 'ok']\n",
      "2660726257   ['fb', 'vk', 'ok']\n",
      "2356246356   ['vk', 'ok']\n",
      "2424337106   ['vk', 'fb']\n",
      "1584037828   ['ok', 'fb']\n"
     ]
    }
   ],
   "source": [
    "for key,value in ids.items():\n",
    "    if len(value)>1:\n",
    "        print key,\" \",value"
   ]
  },
  {
   "cell_type": "code",
   "execution_count": null,
   "metadata": {
    "collapsed": true
   },
   "outputs": [],
   "source": []
  }
 ],
 "metadata": {
  "kernelspec": {
   "display_name": "Python 2",
   "language": "python",
   "name": "python2"
  },
  "language_info": {
   "codemirror_mode": {
    "name": "ipython",
    "version": 2
   },
   "file_extension": ".py",
   "mimetype": "text/x-python",
   "name": "python",
   "nbconvert_exporter": "python",
   "pygments_lexer": "ipython2",
   "version": "2.7.11"
  }
 },
 "nbformat": 4,
 "nbformat_minor": 0
}
